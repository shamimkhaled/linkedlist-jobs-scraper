{
 "cells": [
  {
   "cell_type": "code",
   "execution_count": 1,
   "metadata": {
    "colab": {
     "base_uri": "https://localhost:8080/"
    },
    "id": "dndR-hc2VsWG",
    "outputId": "39c538dc-34e2-44eb-e7c8-ce28eb142bd2"
   },
   "outputs": [
    {
     "name": "stdout",
     "output_type": "stream",
     "text": [
      "Defaulting to user installation because normal site-packages is not writeable\n",
      "Requirement already satisfied: selenium in c:\\users\\iamkh\\appdata\\roaming\\python\\python39\\site-packages (4.8.0)\n",
      "Requirement already satisfied: trio-websocket~=0.9 in c:\\users\\iamkh\\appdata\\roaming\\python\\python39\\site-packages (from selenium) (0.9.2)\n",
      "Requirement already satisfied: certifi>=2021.10.8 in c:\\programdata\\anaconda3\\lib\\site-packages (from selenium) (2021.10.8)\n",
      "Requirement already satisfied: urllib3[socks]~=1.26 in c:\\programdata\\anaconda3\\lib\\site-packages (from selenium) (1.26.9)\n",
      "Requirement already satisfied: trio~=0.17 in c:\\users\\iamkh\\appdata\\roaming\\python\\python39\\site-packages (from selenium) (0.22.0)\n",
      "Requirement already satisfied: sortedcontainers in c:\\programdata\\anaconda3\\lib\\site-packages (from trio~=0.17->selenium) (2.4.0)\n",
      "Requirement already satisfied: exceptiongroup>=1.0.0rc9 in c:\\users\\iamkh\\appdata\\roaming\\python\\python39\\site-packages (from trio~=0.17->selenium) (1.1.0)\n",
      "Requirement already satisfied: outcome in c:\\users\\iamkh\\appdata\\roaming\\python\\python39\\site-packages (from trio~=0.17->selenium) (1.2.0)\n",
      "Requirement already satisfied: async-generator>=1.9 in c:\\users\\iamkh\\appdata\\roaming\\python\\python39\\site-packages (from trio~=0.17->selenium) (1.10)\n",
      "Requirement already satisfied: sniffio in c:\\programdata\\anaconda3\\lib\\site-packages (from trio~=0.17->selenium) (1.2.0)\n",
      "Requirement already satisfied: idna in c:\\programdata\\anaconda3\\lib\\site-packages (from trio~=0.17->selenium) (3.3)\n",
      "Requirement already satisfied: cffi>=1.14 in c:\\programdata\\anaconda3\\lib\\site-packages (from trio~=0.17->selenium) (1.15.0)\n",
      "Requirement already satisfied: attrs>=19.2.0 in c:\\programdata\\anaconda3\\lib\\site-packages (from trio~=0.17->selenium) (21.4.0)\n",
      "Requirement already satisfied: pycparser in c:\\programdata\\anaconda3\\lib\\site-packages (from cffi>=1.14->trio~=0.17->selenium) (2.21)\n",
      "Requirement already satisfied: wsproto>=0.14 in c:\\users\\iamkh\\appdata\\roaming\\python\\python39\\site-packages (from trio-websocket~=0.9->selenium) (1.2.0)\n",
      "Requirement already satisfied: PySocks!=1.5.7,<2.0,>=1.5.6 in c:\\programdata\\anaconda3\\lib\\site-packages (from urllib3[socks]~=1.26->selenium) (1.7.1)\n",
      "Requirement already satisfied: h11<1,>=0.9.0 in c:\\users\\iamkh\\appdata\\roaming\\python\\python39\\site-packages (from wsproto>=0.14->trio-websocket~=0.9->selenium) (0.14.0)\n",
      "Note: you may need to restart the kernel to use updated packages.\n"
     ]
    }
   ],
   "source": [
    "pip install selenium"
   ]
  },
  {
   "cell_type": "code",
   "execution_count": 2,
   "metadata": {
    "id": "nYy4VKmMVtjc"
   },
   "outputs": [],
   "source": []
  },
  {
   "cell_type": "code",
   "execution_count": 2,
   "metadata": {
    "id": "y_wkYN6oVtnJ"
   },
   "outputs": [],
   "source": [
    "# Import Libraries\n",
    "import time\n",
    "import pandas as pd    \n",
    "# -------------  \n",
    "import selenium\n",
    "from selenium import webdriver\n",
    "from selenium.webdriver.common.by import By\n",
    "from selenium.webdriver.support.ui import WebDriverWait\n",
    "from selenium.webdriver.support import expected_conditions as EC\n",
    "from selenium.webdriver.common.keys import Keys\n",
    "from selenium.webdriver.chrome.options import Options"
   ]
  },
  {
   "cell_type": "code",
   "execution_count": 3,
   "metadata": {
    "colab": {
     "base_uri": "https://localhost:8080/",
     "height": 693
    },
    "id": "RnCBxH7rVtpu",
    "outputId": "0a55a03d-f6bc-4dce-f3df-b0a629b3b097"
   },
   "outputs": [
    {
     "name": "stderr",
     "output_type": "stream",
     "text": [
      "C:\\Users\\iamkh\\AppData\\Local\\Temp\\ipykernel_4372\\2683089269.py:6: DeprecationWarning: executable_path has been deprecated, please pass in a Service object\n",
      "  driver = webdriver.Chrome(path)\n"
     ]
    }
   ],
   "source": [
    "# Locate the driver path\n",
    "#options = webdriver.ChromeOptions()\n",
    "#chromeOptions = webdriver.ChromeOptions()\n",
    "#chromeOptions.binary_location = \"C:\\Program Files\\Google\\Chrome\\Application\"\n",
    "path = r\"C:\\Users\\iamkh\\Downloads\\chromedriver\\chromedriver.exe\"\n",
    "driver = webdriver.Chrome(path) "
   ]
  },
  {
   "cell_type": "code",
   "execution_count": 4,
   "metadata": {
    "id": "vL9udI3cVtsF"
   },
   "outputs": [],
   "source": [
    "# Maximize the window\n",
    "driver.maximize_window() \n",
    "driver.minimize_window()  \n",
    "driver.maximize_window()  \n",
    "driver.switch_to.window(driver.current_window_handle)\n",
    "driver.implicitly_wait(10)"
   ]
  },
  {
   "cell_type": "code",
   "execution_count": 5,
   "metadata": {
    "id": "4oqGzUY8Vtub"
   },
   "outputs": [],
   "source": [
    "# Enter to the site\n",
    "driver.get('https://www.linkedin.com/login');\n",
    "time.sleep(2)"
   ]
  },
  {
   "cell_type": "code",
   "execution_count": 8,
   "metadata": {
    "id": "ELp2YKw2Vtwv"
   },
   "outputs": [],
   "source": [
    "# Accept the cookies\n",
    "#driver.find_element(By.XPATH, \"/html/body/div/main/div[1]/div/section/div/div[2]/button[2]\").click()"
   ]
  },
  {
   "cell_type": "code",
   "execution_count": 13,
   "metadata": {
    "id": "1tvFW645Z89v"
   },
   "outputs": [],
   "source": [
    "# User Credentials\n",
    "user_name = 'Enter your LinkedIn account gmail'\n",
    "password = 'Enter your LinkedIn account password'\n",
    "driver.find_element(By.XPATH, '//*[@id=\"username\"]').send_keys(user_name) \n",
    "driver.find_element(By.XPATH, '//*[@id=\"password\"]').send_keys(password)\n",
    "time.sleep(1)"
   ]
  },
  {
   "cell_type": "code",
   "execution_count": 14,
   "metadata": {
    "id": "MQsPnB-9aM--"
   },
   "outputs": [],
   "source": [
    "# Login button for clicking\n",
    "driver.find_element(By.XPATH, '//*[@id=\"organic-div\"]/form/div[3]/button').click() \n",
    "driver.implicitly_wait(30)"
   ]
  },
  {
   "cell_type": "code",
   "execution_count": 16,
   "metadata": {
    "id": "JjmVi3R8aNBP"
   },
   "outputs": [],
   "source": [
    "# Jobs page\n",
    "driver.find_element(By.XPATH, '//*[@id=\"global-nav\"]/div/nav/ul/li[3]/a').click()\n",
    "time.sleep(3)"
   ]
  },
  {
   "cell_type": "code",
   "execution_count": 17,
   "metadata": {},
   "outputs": [],
   "source": [
    "# Go to search results directly\n",
    "driver.get(\"https://www.linkedin.com/jobs/search/?geoId=105646813&keywords=junior%20data%20analyst&location=Spain\")\n",
    "time.sleep(1)"
   ]
  },
  {
   "cell_type": "code",
   "execution_count": 18,
   "metadata": {
    "id": "inL9M4gxaNDi"
   },
   "outputs": [],
   "source": [
    "# Get all links for these offers in list array\n",
    "links = []"
   ]
  },
  {
   "cell_type": "code",
   "execution_count": 20,
   "metadata": {
    "id": "6HQFLUelaYRq"
   },
   "outputs": [
    {
     "name": "stdout",
     "output_type": "stream",
     "text": [
      "Links are being collected now.\n",
      "Collecting the links in the page: 1\n",
      "Collecting the links in the page: 2\n",
      "Collecting the links in the page: 3\n",
      "Collecting the links in the page: 4\n",
      "Collecting the links in the page: 5\n",
      "Collecting the links in the page: 6\n",
      "Collecting the links in the page: 7\n",
      "Collecting the links in the page: 8\n",
      "Collecting the links in the page: 9\n",
      "Collecting the links in the page: 10\n",
      "Collecting the links in the page: 11\n",
      "Collecting the links in the page: 12\n",
      "Found 102 links for job offers\n"
     ]
    }
   ],
   "source": [
    "# Navigate 13 pages\n",
    "print('Links are being collected now.')\n",
    "try: \n",
    "    for page in range(2,14):\n",
    "        time.sleep(2)\n",
    "        jobs_block = driver.find_element(By.CLASS_NAME, 'jobs-search-results-list') \n",
    "\n",
    "        jobs_list= jobs_block.find_elements(By.CSS_SELECTOR, '.job-card-list')\n",
    "    \n",
    "        for job in jobs_list:\n",
    "            all_links = job.find_elements(By.TAG_NAME, 'a')\n",
    "            for a in all_links:\n",
    "                if str(a.get_attribute('href')).startswith(\"https://www.linkedin.com/jobs/view\") and a.get_attribute('href') not in links: \n",
    "                    links.append(a.get_attribute('href'))\n",
    "                else:\n",
    "                    pass\n",
    "            # scroll down for each job element\n",
    "            driver.execute_script(\"arguments[0].scrollIntoView();\", job)\n",
    "        \n",
    "        print(f'Collecting the links in the page: {page-1}')\n",
    "        # go to next page:\n",
    "        driver.find_element(By.XPATH, f\"//button[@aria-label='Page {page}']\").click() \n",
    "        time.sleep(3)\n",
    "except:\n",
    "    pass\n",
    "print('Found ' + str(len(links)) + ' links for job offers')"
   ]
  },
  {
   "cell_type": "code",
   "execution_count": 21,
   "metadata": {
    "id": "RNP5S6x7aYWE"
   },
   "outputs": [],
   "source": [
    "# Create empty lists to store information\n",
    "job_titles = []\n",
    "company_names = []\n",
    "company_locations = []\n",
    "work_methods = []\n",
    "post_dates = []\n",
    "work_times = [] \n",
    "job_desc = []"
   ]
  },
  {
   "cell_type": "code",
   "execution_count": 23,
   "metadata": {
    "id": "PXxam2RqaYXf"
   },
   "outputs": [
    {
     "name": "stdout",
     "output_type": "stream",
     "text": [
      "Visiting the links and collecting information just started.\n",
      "Scraping the Job Offer 1 DONE.\n",
      "Scraping the Job Offer 2\n",
      "Scraping the Job Offer 2 DONE.\n",
      "Scraping the Job Offer 3\n",
      "Scraping the Job Offer 3 DONE.\n",
      "Scraping the Job Offer 4\n",
      "Scraping the Job Offer 4 DONE.\n",
      "Scraping the Job Offer 5\n",
      "Scraping the Job Offer 5 DONE.\n",
      "Scraping the Job Offer 6\n",
      "Scraping the Job Offer 6 DONE.\n",
      "Scraping the Job Offer 7\n",
      "Scraping the Job Offer 7 DONE.\n",
      "Scraping the Job Offer 8\n",
      "Scraping the Job Offer 8 DONE.\n",
      "Scraping the Job Offer 9\n",
      "Scraping the Job Offer 9 DONE.\n",
      "Scraping the Job Offer 10\n",
      "Scraping the Job Offer 10 DONE.\n",
      "Scraping the Job Offer 11\n",
      "Scraping the Job Offer 11 DONE.\n",
      "Scraping the Job Offer 12\n",
      "Scraping the Job Offer 12 DONE.\n",
      "Scraping the Job Offer 13\n",
      "Scraping the Job Offer 13 DONE.\n",
      "Scraping the Job Offer 14\n",
      "Scraping the Job Offer 14 DONE.\n",
      "Scraping the Job Offer 15\n",
      "Scraping the Job Offer 15 DONE.\n",
      "Scraping the Job Offer 16\n",
      "Scraping the Job Offer 16 DONE.\n",
      "Scraping the Job Offer 17\n",
      "Scraping the Job Offer 17 DONE.\n",
      "Scraping the Job Offer 18\n",
      "Scraping the Job Offer 18 DONE.\n",
      "Scraping the Job Offer 19\n",
      "Scraping the Job Offer 19 DONE.\n",
      "Scraping the Job Offer 20\n",
      "Scraping the Job Offer 20 DONE.\n",
      "Scraping the Job Offer 21\n",
      "Scraping the Job Offer 21 DONE.\n",
      "Scraping the Job Offer 22\n",
      "Scraping the Job Offer 22 DONE.\n",
      "Scraping the Job Offer 23\n",
      "Scraping the Job Offer 23 DONE.\n",
      "Scraping the Job Offer 24\n",
      "Scraping the Job Offer 24 DONE.\n",
      "Scraping the Job Offer 25\n",
      "Scraping the Job Offer 25 DONE.\n",
      "Scraping the Job Offer 26\n",
      "Scraping the Job Offer 26 DONE.\n",
      "Scraping the Job Offer 27\n",
      "Scraping the Job Offer 27 DONE.\n",
      "Scraping the Job Offer 28\n",
      "Scraping the Job Offer 28 DONE.\n",
      "Scraping the Job Offer 29\n",
      "Scraping the Job Offer 29 DONE.\n",
      "Scraping the Job Offer 30\n",
      "Scraping the Job Offer 30 DONE.\n",
      "Scraping the Job Offer 31\n",
      "Scraping the Job Offer 31 DONE.\n",
      "Scraping the Job Offer 32\n",
      "Scraping the Job Offer 32 DONE.\n",
      "Scraping the Job Offer 33\n",
      "Scraping the Job Offer 33 DONE.\n",
      "Scraping the Job Offer 34\n",
      "Scraping the Job Offer 34 DONE.\n",
      "Scraping the Job Offer 35\n",
      "Scraping the Job Offer 35 DONE.\n",
      "Scraping the Job Offer 36\n",
      "Scraping the Job Offer 36 DONE.\n",
      "Scraping the Job Offer 37\n",
      "Scraping the Job Offer 37 DONE.\n",
      "Scraping the Job Offer 38\n",
      "Scraping the Job Offer 38 DONE.\n",
      "Scraping the Job Offer 39\n",
      "Scraping the Job Offer 39 DONE.\n",
      "Scraping the Job Offer 40\n",
      "Scraping the Job Offer 40 DONE.\n",
      "Scraping the Job Offer 41\n",
      "Scraping the Job Offer 41 DONE.\n",
      "Scraping the Job Offer 42\n",
      "Scraping the Job Offer 42 DONE.\n",
      "Scraping the Job Offer 43\n",
      "Scraping the Job Offer 43 DONE.\n",
      "Scraping the Job Offer 44\n",
      "Scraping the Job Offer 44 DONE.\n",
      "Scraping the Job Offer 45\n",
      "Scraping the Job Offer 45 DONE.\n",
      "Scraping the Job Offer 46\n",
      "Scraping the Job Offer 46 DONE.\n",
      "Scraping the Job Offer 47\n",
      "Scraping the Job Offer 47 DONE.\n",
      "Scraping the Job Offer 48\n",
      "Scraping the Job Offer 48 DONE.\n",
      "Scraping the Job Offer 49\n",
      "Scraping the Job Offer 49 DONE.\n",
      "Scraping the Job Offer 50\n",
      "Scraping the Job Offer 50 DONE.\n",
      "Scraping the Job Offer 51\n",
      "Scraping the Job Offer 51 DONE.\n",
      "Scraping the Job Offer 52\n",
      "Scraping the Job Offer 52 DONE.\n",
      "Scraping the Job Offer 53\n",
      "Scraping the Job Offer 53 DONE.\n",
      "Scraping the Job Offer 54\n",
      "Scraping the Job Offer 54 DONE.\n",
      "Scraping the Job Offer 55\n",
      "Scraping the Job Offer 55 DONE.\n",
      "Scraping the Job Offer 56\n",
      "Scraping the Job Offer 56\n",
      "Scraping the Job Offer 56 DONE.\n",
      "Scraping the Job Offer 57\n",
      "Scraping the Job Offer 57 DONE.\n",
      "Scraping the Job Offer 58\n",
      "Scraping the Job Offer 58 DONE.\n",
      "Scraping the Job Offer 59\n",
      "Scraping the Job Offer 59 DONE.\n",
      "Scraping the Job Offer 60\n",
      "Scraping the Job Offer 60 DONE.\n",
      "Scraping the Job Offer 61\n",
      "Scraping the Job Offer 61 DONE.\n",
      "Scraping the Job Offer 62\n",
      "Scraping the Job Offer 62 DONE.\n",
      "Scraping the Job Offer 63\n",
      "Scraping the Job Offer 63 DONE.\n",
      "Scraping the Job Offer 64\n",
      "Scraping the Job Offer 64 DONE.\n",
      "Scraping the Job Offer 65\n",
      "Scraping the Job Offer 65 DONE.\n",
      "Scraping the Job Offer 66\n",
      "Scraping the Job Offer 66 DONE.\n",
      "Scraping the Job Offer 67\n",
      "Scraping the Job Offer 67 DONE.\n",
      "Scraping the Job Offer 68\n",
      "Scraping the Job Offer 68 DONE.\n",
      "Scraping the Job Offer 69\n",
      "Scraping the Job Offer 69 DONE.\n",
      "Scraping the Job Offer 70\n",
      "Scraping the Job Offer 70 DONE.\n",
      "Scraping the Job Offer 71\n",
      "Scraping the Job Offer 71 DONE.\n",
      "Scraping the Job Offer 72\n",
      "Scraping the Job Offer 72\n",
      "Scraping the Job Offer 72\n",
      "Scraping the Job Offer 72 DONE.\n",
      "Scraping the Job Offer 73\n",
      "Scraping the Job Offer 73 DONE.\n",
      "Scraping the Job Offer 74\n",
      "Scraping the Job Offer 74 DONE.\n",
      "Scraping the Job Offer 75\n",
      "Scraping the Job Offer 75 DONE.\n",
      "Scraping the Job Offer 76\n",
      "Scraping the Job Offer 76 DONE.\n",
      "Scraping the Job Offer 77\n",
      "Scraping the Job Offer 77 DONE.\n",
      "Scraping the Job Offer 78\n",
      "Scraping the Job Offer 78 DONE.\n",
      "Scraping the Job Offer 79\n",
      "Scraping the Job Offer 79 DONE.\n",
      "Scraping the Job Offer 80\n",
      "Scraping the Job Offer 80\n",
      "Scraping the Job Offer 80 DONE.\n",
      "Scraping the Job Offer 81\n",
      "Scraping the Job Offer 81 DONE.\n",
      "Scraping the Job Offer 82\n",
      "Scraping the Job Offer 82 DONE.\n",
      "Scraping the Job Offer 83\n",
      "Scraping the Job Offer 83 DONE.\n",
      "Scraping the Job Offer 84\n",
      "Scraping the Job Offer 84 DONE.\n",
      "Scraping the Job Offer 85\n",
      "Scraping the Job Offer 85 DONE.\n",
      "Scraping the Job Offer 86\n",
      "Scraping the Job Offer 86 DONE.\n",
      "Scraping the Job Offer 87\n",
      "Scraping the Job Offer 87 DONE.\n",
      "Scraping the Job Offer 88\n",
      "Scraping the Job Offer 88 DONE.\n",
      "Scraping the Job Offer 89\n",
      "Scraping the Job Offer 89 DONE.\n",
      "Scraping the Job Offer 90\n",
      "Scraping the Job Offer 90 DONE.\n",
      "Scraping the Job Offer 91\n",
      "Scraping the Job Offer 91 DONE.\n",
      "Scraping the Job Offer 92\n",
      "Scraping the Job Offer 92 DONE.\n",
      "Scraping the Job Offer 93\n",
      "Scraping the Job Offer 93 DONE.\n",
      "Scraping the Job Offer 94\n",
      "Scraping the Job Offer 94 DONE.\n",
      "Scraping the Job Offer 95\n",
      "Scraping the Job Offer 95 DONE.\n",
      "Scraping the Job Offer 96\n",
      "Scraping the Job Offer 96 DONE.\n",
      "Scraping the Job Offer 97\n",
      "Scraping the Job Offer 97 DONE.\n",
      "Scraping the Job Offer 98\n",
      "Scraping the Job Offer 98 DONE.\n",
      "Scraping the Job Offer 99\n"
     ]
    }
   ],
   "source": [
    "i = 0\n",
    "j = 1\n",
    "# Visit each link one by one to scrape the information\n",
    "print('Visiting the links and collecting information just started.')\n",
    "for i in range(len(links)):\n",
    "    try:\n",
    "        driver.get(links[i])\n",
    "        i=i+1\n",
    "        time.sleep(2)\n",
    "        # Click See more for job description.\n",
    "        driver.find_element_by_class_name(\"artdeco-card__actions\").click()#//*[@id=\"ember2294\"]\n",
    "        time.sleep(2)\n",
    "    except:\n",
    "        pass\n",
    "    \n",
    "    # Find the general information of the job offers\n",
    "    contents = driver.find_elements(By.CLASS_NAME, 'p5')\n",
    "    for content in contents:\n",
    "        try:\n",
    "            job_titles.append(content.find_element(By.TAG_NAME, \"h1\").text)\n",
    "            company_names.append(content.find_element(By.CLASS_NAME, \"jobs-unified-top-card__company-name\").text)\n",
    "            company_locations.append(content.find_element(By.CLASS_NAME, \"jobs-unified-top-card__bullet\").text)\n",
    "            work_methods.append(content.find_element(By.CLASS_NAME, \"jobs-unified-top-card__workplace-type\").text)\n",
    "            post_dates.append(content.find_element(By.CLASS_NAME, \"jobs-unified-top-card__posted-date\").text)\n",
    "            work_times.append(content.find_element(By.CLASS_NAME, \"jobs-unified-top-card__job-insight\").text)\n",
    "            print(f'Scraping the Job Offer {j} DONE.')\n",
    "            j+= 1\n",
    "            \n",
    "        except:\n",
    "            pass\n",
    "        time.sleep(2)\n",
    "        \n",
    "        # Scraping the job description\n",
    "    job_description = driver.find_elements(By.CLASS_NAME, 'jobs-description__content')\n",
    "    for description in job_description:\n",
    "        job_text = description.find_element(By.CLASS_NAME, \"jobs-box__html-content\").text\n",
    "        job_desc.append(job_text)\n",
    "        print(f'Scraping the Job Offer {j}')\n",
    "        time.sleep(2) "
   ]
  },
  {
   "cell_type": "code",
   "execution_count": 24,
   "metadata": {
    "id": "SFoihOVkazHj"
   },
   "outputs": [],
   "source": [
    "# Creating the dataframe \n",
    "df = pd.DataFrame(list(zip(job_titles,company_names,\n",
    "                    company_locations,work_methods,\n",
    "                    post_dates,work_times)),\n",
    "                    columns =['job_title', 'company_name',\n",
    "                           'company_location','work_method',\n",
    "                           'post_date','work_time'])\n",
    "\n",
    "# Storing the data to csv file\n",
    "df.to_csv('linkedin-job-offers.csv', index=False)"
   ]
  },
  {
   "cell_type": "code",
   "execution_count": 25,
   "metadata": {
    "id": "wzdrK7UjazK8"
   },
   "outputs": [],
   "source": [
    "# Output job descriptions to txt file\n",
    "with open('job_descriptions.txt', 'w',encoding=\"utf-8\") as f:\n",
    "    for line in job_desc:\n",
    "        f.write(line)\n",
    "        f.write('\\n')"
   ]
  },
  {
   "cell_type": "code",
   "execution_count": null,
   "metadata": {
    "id": "OamIDow8Vty9"
   },
   "outputs": [],
   "source": []
  },
  {
   "cell_type": "code",
   "execution_count": null,
   "metadata": {
    "id": "3TX6tfsYVt2Z"
   },
   "outputs": [],
   "source": []
  }
 ],
 "metadata": {
  "colab": {
   "provenance": []
  },
  "kernelspec": {
   "display_name": "Python 3 (ipykernel)",
   "language": "python",
   "name": "python3"
  },
  "language_info": {
   "codemirror_mode": {
    "name": "ipython",
    "version": 3
   },
   "file_extension": ".py",
   "mimetype": "text/x-python",
   "name": "python",
   "nbconvert_exporter": "python",
   "pygments_lexer": "ipython3",
   "version": "3.9.12"
  }
 },
 "nbformat": 4,
 "nbformat_minor": 1
}
